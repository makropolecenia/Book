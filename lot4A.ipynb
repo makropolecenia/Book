{
  "nbformat": 4,
  "nbformat_minor": 0,
  "metadata": {
    "colab": {
      "provenance": [],
      "authorship_tag": "ABX9TyMWOF4efe5jgqHuAqLLXp3h",
      "include_colab_link": true
    },
    "kernelspec": {
      "name": "python3",
      "display_name": "Python 3"
    },
    "language_info": {
      "name": "python"
    }
  },
  "cells": [
    {
      "cell_type": "markdown",
      "metadata": {
        "id": "view-in-github",
        "colab_type": "text"
      },
      "source": [
        "<a href=\"https://colab.research.google.com/github/makropolecenia/Book/blob/master/lot4A.ipynb\" target=\"_parent\"><img src=\"https://colab.research.google.com/assets/colab-badge.svg\" alt=\"Open In Colab\"/></a>"
      ]
    },
    {
      "cell_type": "code",
      "source": [
        "#stan na 31.07.2023 tylko scraper bez api\n",
        "\n",
        "DOKONCZYĆ UZYCIE PETLI WG SCHEMATU EUROSTATU, NAJPIERW NA URLACH POTEM NA DATAFRAMACH I CONCAT\n",
        "JAK ZA CZESTO TO BEDZIE PUSTY WYNIK !!!!"
      ],
      "metadata": {
        "id": "8jALT5_ksOsj"
      },
      "execution_count": 1,
      "outputs": []
    },
    {
      "cell_type": "code",
      "execution_count": 2,
      "metadata": {
        "id": "Z9gnfIbkRfMA"
      },
      "outputs": [],
      "source": [
        "#adres scrapera przykładowy"
      ]
    },
    {
      "cell_type": "code",
      "source": [
        "#https://www.flightera.net/en/airport/Gdansk/EPGD/departure/2023-07-10%2021_20"
      ],
      "metadata": {
        "id": "kAr4P4fSRoXa"
      },
      "execution_count": 3,
      "outputs": []
    },
    {
      "cell_type": "code",
      "source": [
        "#https://www.flightera.net/en/airport/Gdansk/EPGD/arrival/2023-07-10%2021_20"
      ],
      "metadata": {
        "id": "JKmqQ7OBW2wL"
      },
      "execution_count": 4,
      "outputs": []
    },
    {
      "cell_type": "code",
      "source": [],
      "metadata": {
        "id": "6hluFHKZgdjq"
      },
      "execution_count": 4,
      "outputs": []
    },
    {
      "cell_type": "code",
      "source": [
        "import pandas as pd\n",
        "import time\n",
        "from datetime import date, timedelta\n",
        "\n",
        "beforeyesterday = date.today() + timedelta(days=-2)\n",
        "beforeyesterday.strftime(\"%Y-%m-%d\")\n",
        "print(\"beforeyesterday\")\n",
        "print(beforeyesterday)\n",
        "#print(type(beforeyesterday))\n",
        "by = str(beforeyesterday)\n",
        "print(by)\n",
        "#print(type(by))\n",
        "\n",
        "yesterday = date.today() + timedelta(days=-1)\n",
        "yesterday.strftime(\"%Y-%m-%d\")\n",
        "print(\"yesterday\")\n",
        "print(yesterday)\n",
        "#print(type(yesterday))\n",
        "y = str(yesterday)\n",
        "print(y)\n",
        "#print(type(y))\n",
        "\n",
        "todaysdate = date.today() + timedelta(days=0)\n",
        "todaysdate.strftime(\"%Y-%m-%d\")\n",
        "print(\"todaysdate\")\n",
        "print(todaysdate)\n",
        "#print(type(todaysdate))\n",
        "td = str(todaysdate)\n",
        "print(td)\n",
        "#print(type(td))\n",
        "\n",
        "print(\"koniec podstawiania daty\")\n",
        "\n",
        "pd.options.mode.chained_assignment = None\n",
        "\n",
        "inne = '2021-01-09'  # podstaw dowolny dzień z 2021 roku\n",
        "\n",
        "mydate=[]\n",
        "\n",
        "mydate=[td] # podstaw symbol daty :  by przedwczoraj , y wczoraj, td dzisiaj, inne dowolny wskazany dzień # !!!\n",
        "print(\"mydate\")\n",
        "print(mydate)\n",
        "#print(type(mydate))"
      ],
      "metadata": {
        "colab": {
          "base_uri": "https://localhost:8080/"
        },
        "id": "4y82G8UUgdgf",
        "outputId": "1559d9c5-3adc-42fb-dc26-f4530354f8cd"
      },
      "execution_count": 5,
      "outputs": [
        {
          "output_type": "stream",
          "name": "stdout",
          "text": [
            "beforeyesterday\n",
            "2023-07-30\n",
            "2023-07-30\n",
            "yesterday\n",
            "2023-07-31\n",
            "2023-07-31\n",
            "todaysdate\n",
            "2023-08-01\n",
            "2023-08-01\n",
            "koniec podstawiania daty\n",
            "mydate\n",
            "['2023-08-01']\n"
          ]
        }
      ]
    },
    {
      "cell_type": "code",
      "source": [],
      "metadata": {
        "id": "Hu6JzkwdgdWl"
      },
      "execution_count": 5,
      "outputs": []
    },
    {
      "cell_type": "code",
      "source": [
        "#lotniska do podstawienia"
      ],
      "metadata": {
        "id": "juk52vqMTZdC"
      },
      "execution_count": 6,
      "outputs": []
    },
    {
      "cell_type": "code",
      "source": [
        "symbole = [\"EPWA\",\"EPKK\",\"EPGD\",\"EPKT\",\"EPWR\",\"EPMO\",\"EPPO\",\"EPRZ\",\"EPSC\",\"EPBY\",\"EPLB\",\"EPLL\",\"EPSY\",\"EPZG\",\"EPRA\"]"
      ],
      "metadata": {
        "id": "nA93IJgQRoT6"
      },
      "execution_count": 7,
      "outputs": []
    },
    {
      "cell_type": "code",
      "source": [
        "miasta= [\"Warsaw\",\"Krakow\",\"Gdansk\",\"Katowice\",\"Wroclaw\",\"Warsaw\",\"Poznan\",\"Rzeszow\",\"Szczecin\",\"Bydgoszcz\",\"Lublin\",\"Lodz\",\"Olsztyn\",\"Zielona Gora\",\"Warsaw\"]"
      ],
      "metadata": {
        "id": "9ZumK9hSRoDr"
      },
      "execution_count": 8,
      "outputs": []
    },
    {
      "cell_type": "code",
      "source": [
        "loty = [\"departure\",\"arrival\"]"
      ],
      "metadata": {
        "id": "RcH32XJZW6WL"
      },
      "execution_count": 9,
      "outputs": []
    },
    {
      "cell_type": "code",
      "source": [
        "daty = [\"2023-07-10%2021_20\"]\n",
        "daty = [(td)+\"%2021_20\"]\n",
        "daty = [(td)]\n"
      ],
      "metadata": {
        "id": "RIAE5RiFXNWj"
      },
      "execution_count": 10,
      "outputs": []
    },
    {
      "cell_type": "code",
      "source": [
        "daty"
      ],
      "metadata": {
        "colab": {
          "base_uri": "https://localhost:8080/"
        },
        "id": "MW2bV794h88F",
        "outputId": "859569a5-c61a-46eb-e0ed-ba7e0bdfcb83"
      },
      "execution_count": 11,
      "outputs": [
        {
          "output_type": "execute_result",
          "data": {
            "text/plain": [
              "['2023-08-01']"
            ]
          },
          "metadata": {},
          "execution_count": 11
        }
      ]
    },
    {
      "cell_type": "code",
      "source": [
        "czasy = [\"%2021_20\"]"
      ],
      "metadata": {
        "id": "PqD5dBCJik6u"
      },
      "execution_count": 12,
      "outputs": []
    },
    {
      "cell_type": "code",
      "source": [
        "# podstawić aktualny czas systemowy i przerobić na kodowanie do url"
      ],
      "metadata": {
        "id": "uaUHgawujZGK"
      },
      "execution_count": 13,
      "outputs": []
    },
    {
      "cell_type": "code",
      "source": [
        "#scraper pokazuje odloty i przyloty tylko o pełnych godzinach"
      ],
      "metadata": {
        "id": "2Qd-cuVEmjgX"
      },
      "execution_count": 14,
      "outputs": []
    },
    {
      "cell_type": "code",
      "source": [
        "#nie ma znaczenia jaki jest podana liczba minut pokazuje tylko odloty i przyloty dla pełnej godziny i zero minut (24 mozliwości podstawiania godziny )"
      ],
      "metadata": {
        "id": "6ZWrzbIsm2Sn"
      },
      "execution_count": 15,
      "outputs": []
    },
    {
      "cell_type": "code",
      "source": [
        "pelne_godziny=[\"00\",\"01\",\"02\",\"03\",\"04\",\"05\",\"06\",\"07\",\"08\",\"09\",\"10\",\"11\",\"12\",\"13\",\"14\",\"15\",\"16\",\"17\",\"18\",\"19\",\"20\",\"21\",\"22\",\"23\"]"
      ],
      "metadata": {
        "id": "7o10jy9-ne0f"
      },
      "execution_count": 16,
      "outputs": []
    },
    {
      "cell_type": "code",
      "source": [
        "len(pelne_godziny)"
      ],
      "metadata": {
        "colab": {
          "base_uri": "https://localhost:8080/"
        },
        "id": "SLi-Kh5koiQ4",
        "outputId": "f002bae3-52db-4701-e0e7-6ae1cbcd40ec"
      },
      "execution_count": 17,
      "outputs": [
        {
          "output_type": "execute_result",
          "data": {
            "text/plain": [
              "24"
            ]
          },
          "metadata": {},
          "execution_count": 17
        }
      ]
    },
    {
      "cell_type": "code",
      "source": [
        "from datetime import datetime\n",
        "\n",
        "now = datetime.now()\n",
        "\n",
        "current_time = now.strftime(\"%H:%M:%S\")\n",
        "print(\"Current Time =\", current_time)"
      ],
      "metadata": {
        "colab": {
          "base_uri": "https://localhost:8080/"
        },
        "id": "ScY-qVrAkRxu",
        "outputId": "9c56fd38-8610-4242-9812-727567c07834"
      },
      "execution_count": 18,
      "outputs": [
        {
          "output_type": "stream",
          "name": "stdout",
          "text": [
            "Current Time = 10:03:44\n"
          ]
        }
      ]
    },
    {
      "cell_type": "code",
      "source": [
        "#pokazuje 2 godziny przesuniety czas"
      ],
      "metadata": {
        "id": "Ir_JSHY2kRuT"
      },
      "execution_count": 19,
      "outputs": []
    },
    {
      "cell_type": "code",
      "source": [
        "import time\n",
        "\n",
        "t = time.localtime()\n",
        "current_time = time.strftime(\"%H:%M:%S\", t)\n",
        "print(current_time)"
      ],
      "metadata": {
        "colab": {
          "base_uri": "https://localhost:8080/"
        },
        "id": "5eUWpP_qkRq6",
        "outputId": "7594512a-6427-4238-be8e-0b49571440ff"
      },
      "execution_count": 20,
      "outputs": [
        {
          "output_type": "stream",
          "name": "stdout",
          "text": [
            "10:03:44\n"
          ]
        }
      ]
    },
    {
      "cell_type": "code",
      "source": [
        "#pokazuje 2 godziny przesuniety czas"
      ],
      "metadata": {
        "id": "HMgNqK2JkRm2"
      },
      "execution_count": 21,
      "outputs": []
    },
    {
      "cell_type": "code",
      "source": [],
      "metadata": {
        "id": "S9buV6rrnc_J"
      },
      "execution_count": 21,
      "outputs": []
    },
    {
      "cell_type": "code",
      "source": [
        "#czasy = [\"%2021_20\"]\n",
        "timex = time.strftime(\"%H_%M\", t)\n",
        "timex_minuty =time.strftime(\"_%M\", t)\n",
        "\n",
        "czasy = [\"%20\"+ timex] #ok\n",
        "czasy = [\"%20\"+ pelne_godziny[20] + timex_minuty]"
      ],
      "metadata": {
        "id": "IFk8YrRRkReH"
      },
      "execution_count": 22,
      "outputs": []
    },
    {
      "cell_type": "code",
      "source": [
        "#podstawienie godziny systemowej zaczytanego przez bibliotekę pythona"
      ],
      "metadata": {
        "id": "6uH-On9VnNXm"
      },
      "execution_count": 23,
      "outputs": []
    },
    {
      "cell_type": "code",
      "source": [
        "czasy\n",
        "#['%2020_09']"
      ],
      "metadata": {
        "colab": {
          "base_uri": "https://localhost:8080/"
        },
        "id": "-_xiSwIyi852",
        "outputId": "04885e1c-3251-40af-f0c9-726fac549b74"
      },
      "execution_count": 24,
      "outputs": [
        {
          "output_type": "execute_result",
          "data": {
            "text/plain": [
              "['%2020_03']"
            ]
          },
          "metadata": {},
          "execution_count": 24
        }
      ]
    },
    {
      "cell_type": "code",
      "source": [
        "len(symbole)"
      ],
      "metadata": {
        "id": "oLtcpSysUwPS",
        "colab": {
          "base_uri": "https://localhost:8080/"
        },
        "outputId": "b0f99b39-508d-4729-8667-3724c3fb56ab"
      },
      "execution_count": 25,
      "outputs": [
        {
          "output_type": "execute_result",
          "data": {
            "text/plain": [
              "15"
            ]
          },
          "metadata": {},
          "execution_count": 25
        }
      ]
    },
    {
      "cell_type": "code",
      "source": [
        "len(miasta)"
      ],
      "metadata": {
        "colab": {
          "base_uri": "https://localhost:8080/"
        },
        "id": "-VgWQz7lUwGb",
        "outputId": "cdc78ca1-f960-45d5-a581-7cdf3cd115b7"
      },
      "execution_count": 26,
      "outputs": [
        {
          "output_type": "execute_result",
          "data": {
            "text/plain": [
              "15"
            ]
          },
          "metadata": {},
          "execution_count": 26
        }
      ]
    },
    {
      "cell_type": "code",
      "source": [
        "len(loty)"
      ],
      "metadata": {
        "colab": {
          "base_uri": "https://localhost:8080/"
        },
        "id": "GBvbTnrJXDfC",
        "outputId": "d9f1affe-905a-45df-f061-c4b5e6b1ea9f"
      },
      "execution_count": 27,
      "outputs": [
        {
          "output_type": "execute_result",
          "data": {
            "text/plain": [
              "2"
            ]
          },
          "metadata": {},
          "execution_count": 27
        }
      ]
    },
    {
      "cell_type": "code",
      "source": [
        "loty[1]"
      ],
      "metadata": {
        "colab": {
          "base_uri": "https://localhost:8080/",
          "height": 36
        },
        "id": "1pQYX-JoYe_j",
        "outputId": "62319171-4957-473c-f9f5-a19cc4195b2b"
      },
      "execution_count": 28,
      "outputs": [
        {
          "output_type": "execute_result",
          "data": {
            "text/plain": [
              "'arrival'"
            ],
            "application/vnd.google.colaboratory.intrinsic+json": {
              "type": "string"
            }
          },
          "metadata": {},
          "execution_count": 28
        }
      ]
    },
    {
      "cell_type": "code",
      "source": [],
      "metadata": {
        "id": "GjLxvQxPgCht"
      },
      "execution_count": 28,
      "outputs": []
    },
    {
      "cell_type": "code",
      "source": [
        "#model aderesu url"
      ],
      "metadata": {
        "id": "omZ3Ko7LYS-7"
      },
      "execution_count": 29,
      "outputs": []
    },
    {
      "cell_type": "code",
      "source": [
        "#https://www.flightera.net/en/airport/Gdansk/EPGD/departure/2023-07-10%2021_20\n",
        "test = 'https://www.flightera.net/en/airport/'+ miasta[1] + '/' + symbole[1] + '/' + loty[1] +'/' + daty[0]+ czasy[0]"
      ],
      "metadata": {
        "id": "yunhHRvXYS0z"
      },
      "execution_count": 30,
      "outputs": []
    },
    {
      "cell_type": "code",
      "source": [
        "test"
      ],
      "metadata": {
        "colab": {
          "base_uri": "https://localhost:8080/",
          "height": 36
        },
        "id": "2BndK0iMZ6s0",
        "outputId": "285a779c-30a2-4b21-d4d1-83d5ca19d622"
      },
      "execution_count": 31,
      "outputs": [
        {
          "output_type": "execute_result",
          "data": {
            "text/plain": [
              "'https://www.flightera.net/en/airport/Krakow/EPKK/arrival/2023-08-01%2020_03'"
            ],
            "application/vnd.google.colaboratory.intrinsic+json": {
              "type": "string"
            }
          },
          "metadata": {},
          "execution_count": 31
        }
      ]
    },
    {
      "cell_type": "code",
      "source": [
        "i=14 # 14 warszawa radom działa\n",
        "\n"
      ],
      "metadata": {
        "id": "Ozi-p5k_abQG"
      },
      "execution_count": 32,
      "outputs": []
    },
    {
      "cell_type": "code",
      "source": [
        "odloty = 'https://www.flightera.net/en/airport/'+ miasta[i] + '/' + symbole[i] + '/' + loty[0] +'/' + daty[0]+ czasy[0]"
      ],
      "metadata": {
        "id": "qkVN6_I2adS9"
      },
      "execution_count": 33,
      "outputs": []
    },
    {
      "cell_type": "code",
      "source": [
        "przyloty = 'https://www.flightera.net/en/airport/'+ miasta[i] + '/' + symbole[i] + '/' + loty[1] +'/' + daty[0]+ czasy[0]"
      ],
      "metadata": {
        "id": "GJjvyUQFfomN"
      },
      "execution_count": 34,
      "outputs": []
    },
    {
      "cell_type": "code",
      "source": [],
      "metadata": {
        "id": "zBUAl4gvfoZV"
      },
      "execution_count": 34,
      "outputs": []
    },
    {
      "cell_type": "code",
      "source": [
        "odloty"
      ],
      "metadata": {
        "colab": {
          "base_uri": "https://localhost:8080/",
          "height": 36
        },
        "id": "GLimxlXwakR7",
        "outputId": "ac8a88a0-e096-4a19-df3e-b4224ac6d3f4"
      },
      "execution_count": 35,
      "outputs": [
        {
          "output_type": "execute_result",
          "data": {
            "text/plain": [
              "'https://www.flightera.net/en/airport/Warsaw/EPRA/departure/2023-08-01%2020_03'"
            ],
            "application/vnd.google.colaboratory.intrinsic+json": {
              "type": "string"
            }
          },
          "metadata": {},
          "execution_count": 35
        }
      ]
    },
    {
      "cell_type": "code",
      "source": [
        "przyloty"
      ],
      "metadata": {
        "colab": {
          "base_uri": "https://localhost:8080/",
          "height": 36
        },
        "id": "Ot0qc_kRfwWM",
        "outputId": "88a8ac93-9b22-4863-b0eb-4dfaa0543b84"
      },
      "execution_count": 36,
      "outputs": [
        {
          "output_type": "execute_result",
          "data": {
            "text/plain": [
              "'https://www.flightera.net/en/airport/Warsaw/EPRA/arrival/2023-08-01%2020_03'"
            ],
            "application/vnd.google.colaboratory.intrinsic+json": {
              "type": "string"
            }
          },
          "metadata": {},
          "execution_count": 36
        }
      ]
    },
    {
      "cell_type": "code",
      "source": [
        "# sprawdzić czy są wszystkie lotniska"
      ],
      "metadata": {
        "id": "VKNP4upQjkAG"
      },
      "execution_count": 37,
      "outputs": []
    },
    {
      "cell_type": "code",
      "source": [
        "# puścić pętle po wszystkich parametrach"
      ],
      "metadata": {
        "id": "q7osePDtjj4J"
      },
      "execution_count": 38,
      "outputs": []
    },
    {
      "cell_type": "code",
      "source": [
        "# na wyjsciu mam być dataframe a na koncu konkaktencja wszystkich dataframe w jedną i zrzut do excela np"
      ],
      "metadata": {
        "id": "GhTunqMBjjv2"
      },
      "execution_count": 39,
      "outputs": []
    },
    {
      "cell_type": "code",
      "source": [
        "##############################################################################################"
      ],
      "metadata": {
        "id": "-1ESS5zvpm9Y"
      },
      "execution_count": 40,
      "outputs": []
    },
    {
      "cell_type": "code",
      "source": [
        "#JEST OK NA TYM ROBIC"
      ],
      "metadata": {
        "id": "YllPPpe-XR53"
      },
      "execution_count": 42,
      "outputs": []
    },
    {
      "cell_type": "code",
      "source": [
        "##############################################################################################"
      ],
      "metadata": {
        "id": "JzUmRQZ4XRtN"
      },
      "execution_count": null,
      "outputs": []
    },
    {
      "cell_type": "code",
      "source": [
        "import requests\n",
        "from bs4 import BeautifulSoup\n",
        "import pandas as pd\n",
        "\n",
        "headers = {\n",
        "    'Accept-Language': \"pl,en;q=0.9,en-GB;q=0.8,en-US;q=0.7\",\n",
        "    'User-Agent': \"Mozilla/5.0 (Windows NT 10.0; Win64; x64) AppleWebKit/537.36 (KHTML, like Gecko) Chrome/114.0.0.0 Safari/537.36 Edg/114.0.1823.43\"\n",
        "}\n",
        "\n",
        "r = requests.get(\"https://www.flightera.net/en/airport/Gdansk/EPGD/departure/2023-07-10%2021_20\", headers=headers)\n",
        "\n",
        "soup = BeautifulSoup(r.text, 'html.parser')\n",
        "tr = soup.find_all(\"tr\", {\"class\": \"bg-white dark:bg-gray-700\"})\n",
        "\n",
        "data = []\n",
        "for t in tr:\n",
        "    s = (t.text.strip().replace(\"\\n\", \";\"))\n",
        "    s = ' '.join(s.split())\n",
        "    s = s.replace(\"; ;\", \";\").replace(\";;\", \";\").replace(\";;\", \";\").replace(\";;\", \";\")\n",
        "    data.append(s)\n",
        "\n",
        "# Convert the data list into a pandas DataFrame\n",
        "df = pd.DataFrame(data, columns=[\"Column1\"])  # Add column names as needed\n",
        "\n",
        "print(df)\n",
        "\n",
        "# split by delimiter\n",
        "df_split = df['Column1'].str.split(';', expand=True)\n",
        "\n",
        "df_split\n"
      ],
      "metadata": {
        "colab": {
          "base_uri": "https://localhost:8080/",
          "height": 104
        },
        "id": "mrN7PfJRXMiu",
        "outputId": "81ebcf5c-b69e-4c4a-b178-b426f0ef6042"
      },
      "execution_count": 70,
      "outputs": [
        {
          "output_type": "stream",
          "name": "stdout",
          "text": [
            "Empty DataFrame\n",
            "Columns: [Column1]\n",
            "Index: []\n"
          ]
        },
        {
          "output_type": "execute_result",
          "data": {
            "text/plain": [
              "Empty DataFrame\n",
              "Columns: []\n",
              "Index: []"
            ],
            "text/html": [
              "\n",
              "\n",
              "  <div id=\"df-4b5bb2c5-ab57-4fd6-a05e-c266a3843c57\">\n",
              "    <div class=\"colab-df-container\">\n",
              "      <div>\n",
              "<style scoped>\n",
              "    .dataframe tbody tr th:only-of-type {\n",
              "        vertical-align: middle;\n",
              "    }\n",
              "\n",
              "    .dataframe tbody tr th {\n",
              "        vertical-align: top;\n",
              "    }\n",
              "\n",
              "    .dataframe thead th {\n",
              "        text-align: right;\n",
              "    }\n",
              "</style>\n",
              "<table border=\"1\" class=\"dataframe\">\n",
              "  <thead>\n",
              "    <tr style=\"text-align: right;\">\n",
              "      <th></th>\n",
              "    </tr>\n",
              "  </thead>\n",
              "  <tbody>\n",
              "  </tbody>\n",
              "</table>\n",
              "</div>\n",
              "      <button class=\"colab-df-convert\" onclick=\"convertToInteractive('df-4b5bb2c5-ab57-4fd6-a05e-c266a3843c57')\"\n",
              "              title=\"Convert this dataframe to an interactive table.\"\n",
              "              style=\"display:none;\">\n",
              "\n",
              "  <svg xmlns=\"http://www.w3.org/2000/svg\" height=\"24px\"viewBox=\"0 0 24 24\"\n",
              "       width=\"24px\">\n",
              "    <path d=\"M0 0h24v24H0V0z\" fill=\"none\"/>\n",
              "    <path d=\"M18.56 5.44l.94 2.06.94-2.06 2.06-.94-2.06-.94-.94-2.06-.94 2.06-2.06.94zm-11 1L8.5 8.5l.94-2.06 2.06-.94-2.06-.94L8.5 2.5l-.94 2.06-2.06.94zm10 10l.94 2.06.94-2.06 2.06-.94-2.06-.94-.94-2.06-.94 2.06-2.06.94z\"/><path d=\"M17.41 7.96l-1.37-1.37c-.4-.4-.92-.59-1.43-.59-.52 0-1.04.2-1.43.59L10.3 9.45l-7.72 7.72c-.78.78-.78 2.05 0 2.83L4 21.41c.39.39.9.59 1.41.59.51 0 1.02-.2 1.41-.59l7.78-7.78 2.81-2.81c.8-.78.8-2.07 0-2.86zM5.41 20L4 18.59l7.72-7.72 1.47 1.35L5.41 20z\"/>\n",
              "  </svg>\n",
              "      </button>\n",
              "\n",
              "\n",
              "\n",
              "    <div id=\"df-2962aaf4-81b0-455b-9662-1f4ad1c2a8f1\">\n",
              "      <button class=\"colab-df-quickchart\" onclick=\"quickchart('df-2962aaf4-81b0-455b-9662-1f4ad1c2a8f1')\"\n",
              "              title=\"Suggest charts.\"\n",
              "              style=\"display:none;\">\n",
              "\n",
              "<svg xmlns=\"http://www.w3.org/2000/svg\" height=\"24px\"viewBox=\"0 0 24 24\"\n",
              "     width=\"24px\">\n",
              "    <g>\n",
              "        <path d=\"M19 3H5c-1.1 0-2 .9-2 2v14c0 1.1.9 2 2 2h14c1.1 0 2-.9 2-2V5c0-1.1-.9-2-2-2zM9 17H7v-7h2v7zm4 0h-2V7h2v10zm4 0h-2v-4h2v4z\"/>\n",
              "    </g>\n",
              "</svg>\n",
              "      </button>\n",
              "    </div>\n",
              "\n",
              "<style>\n",
              "  .colab-df-quickchart {\n",
              "    background-color: #E8F0FE;\n",
              "    border: none;\n",
              "    border-radius: 50%;\n",
              "    cursor: pointer;\n",
              "    display: none;\n",
              "    fill: #1967D2;\n",
              "    height: 32px;\n",
              "    padding: 0 0 0 0;\n",
              "    width: 32px;\n",
              "  }\n",
              "\n",
              "  .colab-df-quickchart:hover {\n",
              "    background-color: #E2EBFA;\n",
              "    box-shadow: 0px 1px 2px rgba(60, 64, 67, 0.3), 0px 1px 3px 1px rgba(60, 64, 67, 0.15);\n",
              "    fill: #174EA6;\n",
              "  }\n",
              "\n",
              "  [theme=dark] .colab-df-quickchart {\n",
              "    background-color: #3B4455;\n",
              "    fill: #D2E3FC;\n",
              "  }\n",
              "\n",
              "  [theme=dark] .colab-df-quickchart:hover {\n",
              "    background-color: #434B5C;\n",
              "    box-shadow: 0px 1px 3px 1px rgba(0, 0, 0, 0.15);\n",
              "    filter: drop-shadow(0px 1px 2px rgba(0, 0, 0, 0.3));\n",
              "    fill: #FFFFFF;\n",
              "  }\n",
              "</style>\n",
              "\n",
              "    <script>\n",
              "      async function quickchart(key) {\n",
              "        const containerElement = document.querySelector('#' + key);\n",
              "        const charts = await google.colab.kernel.invokeFunction(\n",
              "            'suggestCharts', [key], {});\n",
              "      }\n",
              "    </script>\n",
              "\n",
              "      <script>\n",
              "\n",
              "function displayQuickchartButton(domScope) {\n",
              "  let quickchartButtonEl =\n",
              "    domScope.querySelector('#df-2962aaf4-81b0-455b-9662-1f4ad1c2a8f1 button.colab-df-quickchart');\n",
              "  quickchartButtonEl.style.display =\n",
              "    google.colab.kernel.accessAllowed ? 'block' : 'none';\n",
              "}\n",
              "\n",
              "        displayQuickchartButton(document);\n",
              "      </script>\n",
              "      <style>\n",
              "    .colab-df-container {\n",
              "      display:flex;\n",
              "      flex-wrap:wrap;\n",
              "      gap: 12px;\n",
              "    }\n",
              "\n",
              "    .colab-df-convert {\n",
              "      background-color: #E8F0FE;\n",
              "      border: none;\n",
              "      border-radius: 50%;\n",
              "      cursor: pointer;\n",
              "      display: none;\n",
              "      fill: #1967D2;\n",
              "      height: 32px;\n",
              "      padding: 0 0 0 0;\n",
              "      width: 32px;\n",
              "    }\n",
              "\n",
              "    .colab-df-convert:hover {\n",
              "      background-color: #E2EBFA;\n",
              "      box-shadow: 0px 1px 2px rgba(60, 64, 67, 0.3), 0px 1px 3px 1px rgba(60, 64, 67, 0.15);\n",
              "      fill: #174EA6;\n",
              "    }\n",
              "\n",
              "    [theme=dark] .colab-df-convert {\n",
              "      background-color: #3B4455;\n",
              "      fill: #D2E3FC;\n",
              "    }\n",
              "\n",
              "    [theme=dark] .colab-df-convert:hover {\n",
              "      background-color: #434B5C;\n",
              "      box-shadow: 0px 1px 3px 1px rgba(0, 0, 0, 0.15);\n",
              "      filter: drop-shadow(0px 1px 2px rgba(0, 0, 0, 0.3));\n",
              "      fill: #FFFFFF;\n",
              "    }\n",
              "  </style>\n",
              "\n",
              "      <script>\n",
              "        const buttonEl =\n",
              "          document.querySelector('#df-4b5bb2c5-ab57-4fd6-a05e-c266a3843c57 button.colab-df-convert');\n",
              "        buttonEl.style.display =\n",
              "          google.colab.kernel.accessAllowed ? 'block' : 'none';\n",
              "\n",
              "        async function convertToInteractive(key) {\n",
              "          const element = document.querySelector('#df-4b5bb2c5-ab57-4fd6-a05e-c266a3843c57');\n",
              "          const dataTable =\n",
              "            await google.colab.kernel.invokeFunction('convertToInteractive',\n",
              "                                                     [key], {});\n",
              "          if (!dataTable) return;\n",
              "\n",
              "          const docLinkHtml = 'Like what you see? Visit the ' +\n",
              "            '<a target=\"_blank\" href=https://colab.research.google.com/notebooks/data_table.ipynb>data table notebook</a>'\n",
              "            + ' to learn more about interactive tables.';\n",
              "          element.innerHTML = '';\n",
              "          dataTable['output_type'] = 'display_data';\n",
              "          await google.colab.output.renderOutput(dataTable, element);\n",
              "          const docLink = document.createElement('div');\n",
              "          docLink.innerHTML = docLinkHtml;\n",
              "          element.appendChild(docLink);\n",
              "        }\n",
              "      </script>\n",
              "    </div>\n",
              "  </div>\n"
            ]
          },
          "metadata": {},
          "execution_count": 70
        }
      ]
    },
    {
      "cell_type": "code",
      "source": [
        "##############################################################################################"
      ],
      "metadata": {
        "id": "MeNeUTBpXMfo"
      },
      "execution_count": 44,
      "outputs": []
    },
    {
      "cell_type": "code",
      "source": [
        "#DODAJEMY PARAMETRY I WKŁADAMY W PETLE"
      ],
      "metadata": {
        "id": "Q1hvjjagXMc-"
      },
      "execution_count": 46,
      "outputs": []
    },
    {
      "cell_type": "code",
      "source": [
        "import pandas as pd\n",
        "import time\n",
        "from datetime import date, timedelta\n",
        "\n",
        "todaysdate = date.today() + timedelta(days=0)\n",
        "todaysdate.strftime(\"%Y-%m-%d\")\n",
        "print(\"todaysdate\")\n",
        "print(todaysdate)\n",
        "#print(type(todaysdate))\n",
        "td = str(todaysdate)\n",
        "print(td)\n",
        "#print(type(td))\n",
        "\n",
        "\n",
        "daty = [\"2023-07-10%2021_20\"]\n",
        "daty = [(td)+\"%2021_20\"]\n",
        "daty = [(td)]\n",
        "\n",
        "\n",
        "\n",
        "\n",
        "\n",
        "symbole = [\"EPWA\",\"EPKK\",\"EPGD\",\"EPKT\",\"EPWR\",\"EPMO\",\"EPPO\",\"EPRZ\",\"EPSC\",\"EPBY\",\"EPLB\",\"EPLL\",\"EPSY\",\"EPZG\",\"EPRA\"]\n",
        "\n",
        "miasta= [\"Warsaw\",\"Krakow\",\"Gdansk\",\"Katowice\",\"Wroclaw\",\"Warsaw\",\"Poznan\",\"Rzeszow\",\"Szczecin\",\"Bydgoszcz\",\"Lublin\",\"Lodz\",\"Olsztyn\",\"Zielona Gora\",\"Warsaw\"]\n",
        "\n",
        "loty = [\"departure\",\"arrival\"]\n",
        "\n",
        "pelne_godziny=[\"00\",\"01\",\"02\",\"03\",\"04\",\"05\",\"06\",\"07\",\"08\",\"09\",\"10\",\"11\",\"12\",\"13\",\"14\",\"15\",\"16\",\"17\",\"18\",\"19\",\"20\",\"21\",\"22\",\"23\"]\n",
        "\n",
        "\n",
        "czasy = [\"%2021_20\"]\n",
        "\n",
        "\n",
        "\n",
        "\n",
        "\n",
        "\n",
        "\n",
        "\n",
        "\n",
        "\n",
        "\n",
        "\n",
        "\n",
        "\n",
        "\n",
        "\n",
        "\n",
        "\n",
        "\n",
        "\n",
        "\n",
        "\n",
        "\n",
        "\n",
        "\n",
        "\n",
        "\n",
        "\n",
        "\n",
        "\n",
        "import requests\n",
        "from bs4 import BeautifulSoup\n",
        "import pandas as pd\n",
        "\n",
        "\n",
        "\n",
        "\n",
        "kist =[0 ,1] # przełącznik odloty/przyloty jako petla zewnetrzna\n",
        "\n",
        "#kist =[1] # przełącznik tylko odloty jako petla zewnetrzna\n",
        "\n",
        "list =[0 ,1 ,2 ,3 ,4 ,5 ,6 ,7 ,8 ,9 ,10 ,11 ,12 ,13 ,14] # jest 15 miast, 15 lotnisk na razie, miasto i symbol lotniska podstawiam jednocześnie petla wewnetrzna\n",
        "\n",
        "#pozostałe parametry data i czas bedą ustawione jako pobór z daty systemowej i zaczytywane za każdym uruchomieniem\n",
        "\n",
        "#należy wrzucić scraper do jakiegoś schedullera\n",
        "\n",
        "\n",
        "\n",
        "\n",
        "magazyn =[]\n",
        "\n",
        "for k in kist :\n",
        " print (\"sprawdzenie wartosci K na poczatku petli\")\n",
        " print (\"!!!!!!!!\")\n",
        " print (k )\n",
        " print (\"!!!!!!!!\")\n",
        "\n",
        " for i in list :\n",
        "    print (\"poczatek pętli\")\n",
        "    print (\"sprawdzenie wartosci i na poczatku pętli\")\n",
        "    print (i )\n",
        "\n",
        "\n",
        "\n",
        "\n",
        "\n",
        "\n",
        "\n",
        "\n",
        "\n",
        "\n",
        "\n",
        "\n",
        "\n",
        "\n",
        "\n",
        "\n",
        "    headers = {\n",
        "        'Accept-Language': \"pl,en;q=0.9,en-GB;q=0.8,en-US;q=0.7\",\n",
        "        'User-Agent': \"Mozilla/5.0 (Windows NT 10.0; Win64; x64) AppleWebKit/537.36 (KHTML, like Gecko) Chrome/114.0.0.0 Safari/537.36 Edg/114.0.1823.43\"\n",
        "    }\n",
        "\n",
        "    r = requests.get(\"https://www.flightera.net/en/airport/Gdansk/EPGD/departure/2023-07-10%2021_20\", headers=headers)# działający oryginał, nie mozna za częto bo zwraca PUSTE\n",
        "\n",
        "    #PRÓBY PODSTAWIANIA\n",
        "\n",
        "\n",
        "\n",
        "    #r = requests.get('https://www.flightera.net/en/airport/'+ str(miasta[i]) + '/' + str(symbole[i]) + '/' + 'departure/2023-07-10%2021_20', headers=headers) # podstawiam tylko miasta odloty, data, czas na sztywno\n",
        "\n",
        "\n",
        "\n",
        "    #r = requests.get(\"https://www.flightera.net/en/airport/'+ miasta[i] + '/' + symbole[i] + '/' + loty[k] +'/' + daty[0]+ czasy[0], headers=headers) # odloty i przyloty razem\n",
        "\n",
        "    #r = requests.get(\"https://www.flightera.net/en/airport/'+ miasta[i] + '/' + symbole[i] + '/' + loty[0] +'/' + daty[0]+ czasy[0]\", headers=headers) # tylko odloty\n",
        "    #r = requests.get(\"https://www.flightera.net/en/airport/'+ miasta[i] + '/' + symbole[i] + '/' + loty[1] +'/' + daty[0]+ czasy[0]\", headers=headers) # tylko przyloty\n",
        "\n",
        "\n",
        "\n",
        "\n",
        "    soup = BeautifulSoup(r.text, 'html.parser')\n",
        "    tr = soup.find_all(\"tr\", {\"class\": \"bg-white dark:bg-gray-700\"})\n",
        "\n",
        "    data = []\n",
        "    for t in tr:\n",
        "        s = (t.text.strip().replace(\"\\n\", \";\"))\n",
        "        s = ' '.join(s.split())\n",
        "        s = s.replace(\"; ;\", \";\").replace(\";;\", \";\").replace(\";;\", \";\").replace(\";;\", \";\")\n",
        "        data.append(s)\n",
        "\n",
        "    # Convert the data list into a pandas DataFrame\n",
        "    df = pd.DataFrame(data, columns=[\"Column1\"])  # Add column names as needed\n",
        "\n",
        "    print(df)\n",
        "\n",
        "    # split by delimiter\n",
        "    df_split = df['Column1'].str.split(';', expand=True)\n",
        "\n",
        "    df_split\n",
        "\n",
        "\n",
        "    magazyn .append (df_split )\n",
        "\n",
        "\n",
        "\n",
        "\n",
        "\n",
        "\n",
        "\n",
        "\n",
        "\n",
        "print (\" zawartosc magazynu \")\n",
        "print (magazyn )\n",
        "print (\" koniec zawartosci magazynu \")\n",
        "\n",
        "df =pd .concat (magazyn )\n",
        "\n",
        "\n",
        "\n",
        "df_to_excel =pd .DataFrame (df )\n",
        "df_to_excel .to_excel (\"LOT_OUTPUT1.xlsx\")\n",
        "print (\"magazyn po napelnieniu : polaczone datafrejmy\")\n",
        "print (df )\n",
        "print (\" zakonczenie programu \")\n",
        "df\n",
        "\n",
        "magazyn\n",
        "\n"
      ],
      "metadata": {
        "colab": {
          "base_uri": "https://localhost:8080/"
        },
        "id": "P7yj-l_-XMaY",
        "outputId": "0ad2653e-158e-4850-c316-948a45869d08"
      },
      "execution_count": 68,
      "outputs": [
        {
          "output_type": "stream",
          "name": "stdout",
          "text": [
            "todaysdate\n",
            "2023-08-01\n",
            "2023-08-01\n",
            "sprawdzenie wartosci K na poczatku petli\n",
            "!!!!!!!!\n",
            "0\n",
            "!!!!!!!!\n",
            "poczatek pętli\n",
            "sprawdzenie wartosci i na poczatku pętli\n",
            "0\n",
            "Empty DataFrame\n",
            "Columns: [Column1]\n",
            "Index: []\n",
            "poczatek pętli\n",
            "sprawdzenie wartosci i na poczatku pętli\n",
            "1\n",
            "Empty DataFrame\n",
            "Columns: [Column1]\n",
            "Index: []\n",
            "poczatek pętli\n",
            "sprawdzenie wartosci i na poczatku pętli\n",
            "2\n",
            "Empty DataFrame\n",
            "Columns: [Column1]\n",
            "Index: []\n",
            "poczatek pętli\n",
            "sprawdzenie wartosci i na poczatku pętli\n",
            "3\n",
            "Empty DataFrame\n",
            "Columns: [Column1]\n",
            "Index: []\n",
            "poczatek pętli\n",
            "sprawdzenie wartosci i na poczatku pętli\n",
            "4\n",
            "Empty DataFrame\n",
            "Columns: [Column1]\n",
            "Index: []\n",
            "poczatek pętli\n",
            "sprawdzenie wartosci i na poczatku pętli\n",
            "5\n",
            "Empty DataFrame\n",
            "Columns: [Column1]\n",
            "Index: []\n",
            "poczatek pętli\n",
            "sprawdzenie wartosci i na poczatku pętli\n",
            "6\n",
            "Empty DataFrame\n",
            "Columns: [Column1]\n",
            "Index: []\n",
            "poczatek pętli\n",
            "sprawdzenie wartosci i na poczatku pętli\n",
            "7\n",
            "Empty DataFrame\n",
            "Columns: [Column1]\n",
            "Index: []\n",
            "poczatek pętli\n",
            "sprawdzenie wartosci i na poczatku pętli\n",
            "8\n",
            "Empty DataFrame\n",
            "Columns: [Column1]\n",
            "Index: []\n",
            "poczatek pętli\n",
            "sprawdzenie wartosci i na poczatku pętli\n",
            "9\n",
            "Empty DataFrame\n",
            "Columns: [Column1]\n",
            "Index: []\n",
            "poczatek pętli\n",
            "sprawdzenie wartosci i na poczatku pętli\n",
            "10\n",
            "Empty DataFrame\n",
            "Columns: [Column1]\n",
            "Index: []\n",
            "poczatek pętli\n",
            "sprawdzenie wartosci i na poczatku pętli\n",
            "11\n",
            "Empty DataFrame\n",
            "Columns: [Column1]\n",
            "Index: []\n",
            "poczatek pętli\n",
            "sprawdzenie wartosci i na poczatku pętli\n",
            "12\n",
            "Empty DataFrame\n",
            "Columns: [Column1]\n",
            "Index: []\n",
            "poczatek pętli\n",
            "sprawdzenie wartosci i na poczatku pętli\n",
            "13\n",
            "Empty DataFrame\n",
            "Columns: [Column1]\n",
            "Index: []\n",
            "poczatek pętli\n",
            "sprawdzenie wartosci i na poczatku pętli\n",
            "14\n",
            "Empty DataFrame\n",
            "Columns: [Column1]\n",
            "Index: []\n",
            "sprawdzenie wartosci K na poczatku petli\n",
            "!!!!!!!!\n",
            "1\n",
            "!!!!!!!!\n",
            "poczatek pętli\n",
            "sprawdzenie wartosci i na poczatku pętli\n",
            "0\n",
            "Empty DataFrame\n",
            "Columns: [Column1]\n",
            "Index: []\n",
            "poczatek pętli\n",
            "sprawdzenie wartosci i na poczatku pętli\n",
            "1\n",
            "Empty DataFrame\n",
            "Columns: [Column1]\n",
            "Index: []\n",
            "poczatek pętli\n",
            "sprawdzenie wartosci i na poczatku pętli\n",
            "2\n",
            "Empty DataFrame\n",
            "Columns: [Column1]\n",
            "Index: []\n",
            "poczatek pętli\n",
            "sprawdzenie wartosci i na poczatku pętli\n",
            "3\n",
            "Empty DataFrame\n",
            "Columns: [Column1]\n",
            "Index: []\n",
            "poczatek pętli\n",
            "sprawdzenie wartosci i na poczatku pętli\n",
            "4\n",
            "Empty DataFrame\n",
            "Columns: [Column1]\n",
            "Index: []\n",
            "poczatek pętli\n",
            "sprawdzenie wartosci i na poczatku pętli\n",
            "5\n",
            "Empty DataFrame\n",
            "Columns: [Column1]\n",
            "Index: []\n",
            "poczatek pętli\n",
            "sprawdzenie wartosci i na poczatku pętli\n",
            "6\n",
            "Empty DataFrame\n",
            "Columns: [Column1]\n",
            "Index: []\n",
            "poczatek pętli\n",
            "sprawdzenie wartosci i na poczatku pętli\n",
            "7\n",
            "Empty DataFrame\n",
            "Columns: [Column1]\n",
            "Index: []\n",
            "poczatek pętli\n",
            "sprawdzenie wartosci i na poczatku pętli\n",
            "8\n",
            "Empty DataFrame\n",
            "Columns: [Column1]\n",
            "Index: []\n",
            "poczatek pętli\n",
            "sprawdzenie wartosci i na poczatku pętli\n",
            "9\n",
            "Empty DataFrame\n",
            "Columns: [Column1]\n",
            "Index: []\n",
            "poczatek pętli\n",
            "sprawdzenie wartosci i na poczatku pętli\n",
            "10\n",
            "Empty DataFrame\n",
            "Columns: [Column1]\n",
            "Index: []\n",
            "poczatek pętli\n",
            "sprawdzenie wartosci i na poczatku pętli\n",
            "11\n",
            "Empty DataFrame\n",
            "Columns: [Column1]\n",
            "Index: []\n",
            "poczatek pętli\n",
            "sprawdzenie wartosci i na poczatku pętli\n",
            "12\n",
            "Empty DataFrame\n",
            "Columns: [Column1]\n",
            "Index: []\n",
            "poczatek pętli\n",
            "sprawdzenie wartosci i na poczatku pętli\n",
            "13\n",
            "Empty DataFrame\n",
            "Columns: [Column1]\n",
            "Index: []\n",
            "poczatek pętli\n",
            "sprawdzenie wartosci i na poczatku pętli\n",
            "14\n",
            "Empty DataFrame\n",
            "Columns: [Column1]\n",
            "Index: []\n",
            " zawartosc magazynu \n",
            "[Empty DataFrame\n",
            "Columns: []\n",
            "Index: [], Empty DataFrame\n",
            "Columns: []\n",
            "Index: [], Empty DataFrame\n",
            "Columns: []\n",
            "Index: [], Empty DataFrame\n",
            "Columns: []\n",
            "Index: [], Empty DataFrame\n",
            "Columns: []\n",
            "Index: [], Empty DataFrame\n",
            "Columns: []\n",
            "Index: [], Empty DataFrame\n",
            "Columns: []\n",
            "Index: [], Empty DataFrame\n",
            "Columns: []\n",
            "Index: [], Empty DataFrame\n",
            "Columns: []\n",
            "Index: [], Empty DataFrame\n",
            "Columns: []\n",
            "Index: [], Empty DataFrame\n",
            "Columns: []\n",
            "Index: [], Empty DataFrame\n",
            "Columns: []\n",
            "Index: [], Empty DataFrame\n",
            "Columns: []\n",
            "Index: [], Empty DataFrame\n",
            "Columns: []\n",
            "Index: [], Empty DataFrame\n",
            "Columns: []\n",
            "Index: [], Empty DataFrame\n",
            "Columns: []\n",
            "Index: [], Empty DataFrame\n",
            "Columns: []\n",
            "Index: [], Empty DataFrame\n",
            "Columns: []\n",
            "Index: [], Empty DataFrame\n",
            "Columns: []\n",
            "Index: [], Empty DataFrame\n",
            "Columns: []\n",
            "Index: [], Empty DataFrame\n",
            "Columns: []\n",
            "Index: [], Empty DataFrame\n",
            "Columns: []\n",
            "Index: [], Empty DataFrame\n",
            "Columns: []\n",
            "Index: [], Empty DataFrame\n",
            "Columns: []\n",
            "Index: [], Empty DataFrame\n",
            "Columns: []\n",
            "Index: [], Empty DataFrame\n",
            "Columns: []\n",
            "Index: [], Empty DataFrame\n",
            "Columns: []\n",
            "Index: [], Empty DataFrame\n",
            "Columns: []\n",
            "Index: [], Empty DataFrame\n",
            "Columns: []\n",
            "Index: [], Empty DataFrame\n",
            "Columns: []\n",
            "Index: []]\n",
            " koniec zawartosci magazynu \n",
            "magazyn po napelnieniu : polaczone datafrejmy\n",
            "Empty DataFrame\n",
            "Columns: []\n",
            "Index: []\n",
            " zakonczenie programu \n"
          ]
        },
        {
          "output_type": "execute_result",
          "data": {
            "text/plain": [
              "[Empty DataFrame\n",
              " Columns: []\n",
              " Index: [],\n",
              " Empty DataFrame\n",
              " Columns: []\n",
              " Index: [],\n",
              " Empty DataFrame\n",
              " Columns: []\n",
              " Index: [],\n",
              " Empty DataFrame\n",
              " Columns: []\n",
              " Index: [],\n",
              " Empty DataFrame\n",
              " Columns: []\n",
              " Index: [],\n",
              " Empty DataFrame\n",
              " Columns: []\n",
              " Index: [],\n",
              " Empty DataFrame\n",
              " Columns: []\n",
              " Index: [],\n",
              " Empty DataFrame\n",
              " Columns: []\n",
              " Index: [],\n",
              " Empty DataFrame\n",
              " Columns: []\n",
              " Index: [],\n",
              " Empty DataFrame\n",
              " Columns: []\n",
              " Index: [],\n",
              " Empty DataFrame\n",
              " Columns: []\n",
              " Index: [],\n",
              " Empty DataFrame\n",
              " Columns: []\n",
              " Index: [],\n",
              " Empty DataFrame\n",
              " Columns: []\n",
              " Index: [],\n",
              " Empty DataFrame\n",
              " Columns: []\n",
              " Index: [],\n",
              " Empty DataFrame\n",
              " Columns: []\n",
              " Index: [],\n",
              " Empty DataFrame\n",
              " Columns: []\n",
              " Index: [],\n",
              " Empty DataFrame\n",
              " Columns: []\n",
              " Index: [],\n",
              " Empty DataFrame\n",
              " Columns: []\n",
              " Index: [],\n",
              " Empty DataFrame\n",
              " Columns: []\n",
              " Index: [],\n",
              " Empty DataFrame\n",
              " Columns: []\n",
              " Index: [],\n",
              " Empty DataFrame\n",
              " Columns: []\n",
              " Index: [],\n",
              " Empty DataFrame\n",
              " Columns: []\n",
              " Index: [],\n",
              " Empty DataFrame\n",
              " Columns: []\n",
              " Index: [],\n",
              " Empty DataFrame\n",
              " Columns: []\n",
              " Index: [],\n",
              " Empty DataFrame\n",
              " Columns: []\n",
              " Index: [],\n",
              " Empty DataFrame\n",
              " Columns: []\n",
              " Index: [],\n",
              " Empty DataFrame\n",
              " Columns: []\n",
              " Index: [],\n",
              " Empty DataFrame\n",
              " Columns: []\n",
              " Index: [],\n",
              " Empty DataFrame\n",
              " Columns: []\n",
              " Index: [],\n",
              " Empty DataFrame\n",
              " Columns: []\n",
              " Index: []]"
            ]
          },
          "metadata": {},
          "execution_count": 68
        }
      ]
    },
    {
      "cell_type": "code",
      "source": [
        "# jest ok ale przestało odpowiadac bo za dużo requestów na raz"
      ],
      "metadata": {
        "id": "vknkTtXzXMXx"
      },
      "execution_count": null,
      "outputs": []
    },
    {
      "cell_type": "code",
      "source": [],
      "metadata": {
        "id": "O0ChXoJ4XMVP"
      },
      "execution_count": null,
      "outputs": []
    },
    {
      "cell_type": "code",
      "source": [],
      "metadata": {
        "id": "g-ue6WVxXMSR"
      },
      "execution_count": null,
      "outputs": []
    },
    {
      "cell_type": "code",
      "source": [],
      "metadata": {
        "id": "hTAzL3dxXMPN"
      },
      "execution_count": null,
      "outputs": []
    },
    {
      "cell_type": "code",
      "source": [],
      "metadata": {
        "id": "rgsruXFBXMMP"
      },
      "execution_count": null,
      "outputs": []
    },
    {
      "cell_type": "code",
      "source": [],
      "metadata": {
        "id": "CqmQdFPRXMDO"
      },
      "execution_count": null,
      "outputs": []
    },
    {
      "cell_type": "code",
      "source": [],
      "metadata": {
        "id": "SqJo3rmLXMAY"
      },
      "execution_count": null,
      "outputs": []
    },
    {
      "cell_type": "code",
      "source": [
        "#kod JM pierwotny nie działa ciagle sie kreci"
      ],
      "metadata": {
        "id": "vCH5bXyDpmaM"
      },
      "execution_count": null,
      "outputs": []
    },
    {
      "cell_type": "code",
      "source": [
        "#!pip install BeautifulSoup # nie może przetworzyć Beutiful Soup"
      ],
      "metadata": {
        "id": "oGZ7_ya9p7lg"
      },
      "execution_count": null,
      "outputs": []
    },
    {
      "cell_type": "code",
      "source": [
        "import requests\n",
        "headers = { 'Accept-Language' : \"pl,en;q=0.9,en-GB;q=0.8,en-US;q=0.7\",\n",
        "            'User-Agent':\"Mozilla/5.0 (Windows NT 10.0; Win64; x64) AppleWebKit/537.36 (KHTML, like Gecko) Chrome/114.0.0.0 Safari/537.36 Edg/114.0.1823.43\"}\n",
        "proxy = { 'http': '10.51.51.1:8010','https': '10.51.51.1:8010'}\n",
        "r=requests.get(\"https://www.flightera.net/en/airport/Gdansk/EPGD/departure/2023-07-10%2021_20\",headers=headers,proxies=proxy)\n",
        "\n",
        "\n",
        "\n",
        "from bs4 import BeautifulSoup\n",
        "website=BeautifulSoup(r.text,'html.parser')\n",
        "tags=website.find_all(\"span\",{\"class\":\"text-gray-700 text-xs dark:text-white\"})\n",
        "tags2=website.find_all(\"span\",{\"class\":\"text-xs whitespace-nowrap\"})\n",
        "tr=website.find_all(\"tr\",{\"class\":\"bg-white dark:bg-gray-700\"})\n",
        "for t in tr:\n",
        "    s=(t.text.strip().replace(\"\\n\",\";\"))\n",
        "    s=' '.join(s.split())\n",
        "    s=s.replace(\"; ;\",\";\").replace(\";;\",\";\").replace(\";;\",\";\").replace(\";;\",\";\")\n",
        "    print(s)\n"
      ],
      "metadata": {
        "id": "uYSJQ_Vnpwd_"
      },
      "execution_count": null,
      "outputs": []
    },
    {
      "cell_type": "code",
      "source": [
        "#sprawdzenie pierwszej czesci kodu JM"
      ],
      "metadata": {
        "id": "1iI9HL4LqVlf"
      },
      "execution_count": null,
      "outputs": []
    },
    {
      "cell_type": "code",
      "source": [
        "import requests\n",
        "headers = { 'Accept-Language' : \"pl,en;q=0.9,en-GB;q=0.8,en-US;q=0.7\",\n",
        "            'User-Agent':\"Mozilla/5.0 (Windows NT 10.0; Win64; x64) AppleWebKit/537.36 (KHTML, like Gecko) Chrome/114.0.0.0 Safari/537.36 Edg/114.0.1823.43\"}\n",
        "proxy = { 'http': '10.51.51.1:8010','https': '10.51.51.1:8010'}\n",
        "r=requests.get(\"https://www.flightera.net/en/airport/Gdansk/EPGD/departure/2023-07-10%2021_20\",headers=headers,proxies=proxy)\n"
      ],
      "metadata": {
        "id": "Ih8N_J2DqcCK"
      },
      "execution_count": null,
      "outputs": []
    },
    {
      "cell_type": "code",
      "source": [
        "# wyłaczyłem serwer proxy i kod JM działa"
      ],
      "metadata": {
        "id": "VeOIB5FMrBN7"
      },
      "execution_count": null,
      "outputs": []
    },
    {
      "cell_type": "code",
      "source": [
        "import requests\n",
        "headers = { 'Accept-Language' : \"pl,en;q=0.9,en-GB;q=0.8,en-US;q=0.7\",\n",
        "            'User-Agent':\"Mozilla/5.0 (Windows NT 10.0; Win64; x64) AppleWebKit/537.36 (KHTML, like Gecko) Chrome/114.0.0.0 Safari/537.36 Edg/114.0.1823.43\"}\n",
        "\n",
        "#r=requests.get(\"https://www.flightera.net/en/airport/Gdansk/EPGD/departure/2023-07-10%2021_20\",headers=headers,proxies=proxy)\n",
        "r=requests.get(\"https://www.flightera.net/en/airport/Gdansk/EPGD/departure/2023-07-10%2021_20\",headers=headers)\n",
        "\n",
        "data=[]\n",
        "\n",
        "# Select header text and turn it into a list for Pandas\n",
        "header_soup = soup.findAll('th')\n",
        "row_soup = soup.find_all(\"tr\")\n",
        "\n",
        "headers = []\n",
        "for h in header_soup:\n",
        "  headers.append(h.text)\n",
        "\n",
        "from bs4 import BeautifulSoup\n",
        "website=BeautifulSoup(r.text,'html.parser')\n",
        "tags=website.find_all(\"span\",{\"class\":\"text-gray-700 text-xs dark:text-white\"})\n",
        "tags2=website.find_all(\"span\",{\"class\":\"text-xs whitespace-nowrap\"})\n",
        "tr=website.find_all(\"tr\",{\"class\":\"bg-white dark:bg-gray-700\"})\n",
        "for t in tr:\n",
        "    s=(t.text.strip().replace(\"\\n\",\";\"))\n",
        "    s=' '.join(s.split())\n",
        "    s=s.replace(\"; ;\",\";\").replace(\";;\",\";\").replace(\";;\",\";\").replace(\";;\",\";\")\n",
        "    print(s)\n",
        "\n",
        "\n",
        "\n",
        "\n",
        "\n",
        "\n",
        "\"\"\"\n",
        "\n",
        "# inne\n",
        "source = urllib.request.urlopen('https://www.flightera.net/en/airport/Gdansk/EPGD/departure/2023-07-10%2021_20').read()\n",
        "soup = bs.BeautifulSoup(source,'lxml')\n",
        "\n",
        "table = soup.find('table', attrs={'class':'subs noBorders evenRows'})\n",
        "table_rows = table.find_all('tr')\n",
        "\n",
        "for tr in table_rows:\n",
        "    td = tr.find_all('td')\n",
        "    row = [tr.text for tr in td]\n",
        "    print(row)\n",
        "\n",
        "\n",
        "\n",
        "\n",
        "l = []\n",
        "for tr in table_rows:\n",
        "    td = tr.find_all('td')\n",
        "    row = [tr.text for tr in td]\n",
        "    l.append(row)\n",
        "pd.DataFrame(l, columns=[\"A\", \"B\",\"c\", \"d\",\"e\", \"f\", \"g\"])\n",
        "\n",
        "\"\"\""
      ],
      "metadata": {
        "id": "r5u8tu4Mqw0f"
      },
      "execution_count": null,
      "outputs": []
    },
    {
      "cell_type": "code",
      "source": [
        "\n",
        "# inne\n",
        "source = urllib.request.urlopen('https://www.flightera.net/en/airport/Gdansk/EPGD/departure/2023-07-10%2021_20').read()\n",
        "soup = bs.BeautifulSoup(source,'lxml')\n",
        "\n",
        "table = soup.find('table', attrs={'class':'subs noBorders evenRows'})\n",
        "table_rows = table.find_all('tr')\n",
        "\n",
        "for tr in table_rows:\n",
        "    td = tr.find_all('td')\n",
        "    row = [tr.text for tr in td]\n",
        "    print(row)\n",
        "\n",
        "\n",
        "\n",
        "\n",
        "l = []\n",
        "for tr in table_rows:\n",
        "    td = tr.find_all('td')\n",
        "    row = [tr.text for tr in td]\n",
        "    l.append(row)\n",
        "pd.DataFrame(l, columns=[\"A\", \"B\",\"c\", \"d\",\"e\", \"f\", \"g\"])"
      ],
      "metadata": {
        "id": "6YHt9wBML8Fn"
      },
      "execution_count": null,
      "outputs": []
    },
    {
      "cell_type": "code",
      "source": [],
      "metadata": {
        "id": "UHCKxodmL8Cz"
      },
      "execution_count": null,
      "outputs": []
    },
    {
      "cell_type": "code",
      "source": [],
      "metadata": {
        "id": "_akCYggWL7_5"
      },
      "execution_count": null,
      "outputs": []
    },
    {
      "cell_type": "code",
      "source": [],
      "metadata": {
        "id": "Qf48inpWL78w"
      },
      "execution_count": null,
      "outputs": []
    },
    {
      "cell_type": "code",
      "source": [],
      "metadata": {
        "id": "mQLdAz4tL751"
      },
      "execution_count": null,
      "outputs": []
    },
    {
      "cell_type": "code",
      "source": [],
      "metadata": {
        "id": "YXGGcC_SL7qz"
      },
      "execution_count": null,
      "outputs": []
    },
    {
      "cell_type": "code",
      "source": [
        "#zapisz wyniki do dataframe PRZYKLAD"
      ],
      "metadata": {
        "id": "3XYNchK1C_Qa"
      },
      "execution_count": null,
      "outputs": []
    },
    {
      "cell_type": "code",
      "source": [
        "#https://stackoverflow.com/questions/50633050/scrape-tables-into-dataframe-with-beautifulsoup"
      ],
      "metadata": {
        "id": "NDGX3VvxKH3E"
      },
      "execution_count": null,
      "outputs": []
    },
    {
      "cell_type": "code",
      "source": [
        "import bs4 as bs\n",
        "import urllib.request\n",
        "import pandas as pd\n",
        "\n",
        "source = urllib.request.urlopen('http://www.gcoins.net/en/catalog/view/45518').read()\n",
        "soup = bs.BeautifulSoup(source,'lxml')\n",
        "\n",
        "table = soup.find('table', attrs={'class':'subs noBorders evenRows'})\n",
        "table_rows = table.find_all('tr')\n",
        "\n",
        "for tr in table_rows:\n",
        "    td = tr.find_all('td')\n",
        "    row = [tr.text for tr in td]\n",
        "    print(row)\n",
        "\n",
        "\n",
        "\n",
        "\n",
        "l = []\n",
        "for tr in table_rows:\n",
        "    td = tr.find_all('td')\n",
        "    row = [tr.text for tr in td]\n",
        "    l.append(row)\n",
        "pd.DataFrame(l, columns=[\"A\", \"B\",\"c\", \"d\",\"e\", \"f\", \"g\"])"
      ],
      "metadata": {
        "id": "MgCmy1foKHzW"
      },
      "execution_count": null,
      "outputs": []
    },
    {
      "cell_type": "code",
      "source": [
        "#wykonany zrzut do data frame NIEOCZYSZCZONY"
      ],
      "metadata": {
        "id": "t837-bpEKHpV"
      },
      "execution_count": null,
      "outputs": []
    },
    {
      "cell_type": "code",
      "source": [
        "#https://forum.freecodecamp.org/t/need-help-on-extract-dynamic-table-data/458201/7"
      ],
      "metadata": {
        "id": "oeG1MYu9rJLK"
      },
      "execution_count": null,
      "outputs": []
    },
    {
      "cell_type": "code",
      "source": [
        "pip install xlwt"
      ],
      "metadata": {
        "id": "6FoKfQwdNT6E"
      },
      "execution_count": null,
      "outputs": []
    },
    {
      "cell_type": "code",
      "source": [
        "####### Extract the data in pandas dataframe (start) #############\n",
        "import requests\n",
        "headers = { 'Accept-Language' : \"pl,en;q=0.9,en-GB;q=0.8,en-US;q=0.7\",\n",
        "            'User-Agent':\"Mozilla/5.0 (Windows NT 10.0; Win64; x64) AppleWebKit/537.36 (KHTML, like Gecko) Chrome/114.0.0.0 Safari/537.36 Edg/114.0.1823.43\"}\n",
        "#proxy = { 'http': '10.51.51.1:8010','https': '10.51.51.1:8010'}\n",
        "#r=requests.get(\"https://www.flightera.net/en/airport/Gdansk/EPGD/departure/2023-07-10%2021_20\",headers=headers,proxies=proxy)\n",
        "r=requests.get(\"https://www.flightera.net/en/airport/Gdansk/EPGD/departure/2023-07-10%2021_20\",headers=headers)\n",
        "\n",
        "\n",
        "from bs4 import BeautifulSoup\n",
        "soup=BeautifulSoup(r.text,'html.parser')\n",
        "\n",
        "\n",
        "\n",
        "\n",
        "\n",
        "# Select header text and turn it into a list for Pandas\n",
        "header_soup = soup.findAll('th')\n",
        "row_soup = soup.find_all(\"tr\")\n",
        "\n",
        "headers = []\n",
        "for h in header_soup:\n",
        "  headers.append(h.text)\n",
        "\n",
        "\n",
        "# Select row cell text and turn it into a list for Pandas\n",
        "rows = []\n",
        "for row in row_soup:\n",
        "  row_data = []\n",
        "  for cell in row.findAll('td'):\n",
        "    print(cell.text.strip())\n",
        "    row_data.append(cell.text.strip())\n",
        "  rows.append(row_data)\n",
        "\n",
        "\n",
        "\n",
        "# Create the dataframe from your table data\n",
        "df = pd.DataFrame(rows, columns=headers)\n",
        "\n",
        "\n",
        "\n",
        "\n",
        "#zmiana delimiterów\n",
        "df2=df.apply(lambda x: x.str.replace('\\n',';'))\n",
        "\n",
        "#zmiana delimiterów\n",
        "df3=df2.apply(lambda x: x.str.replace(\"; ;\",\";\").replace(\";;\",\";\").replace(\";;\",\";\").replace(\";;\",\";\"))\n",
        "\n",
        "\n",
        "\n",
        "\n",
        " #s=(t.text.strip().replace(\"\\n\",\";\"))\n",
        "\n",
        "\n",
        " #s=s.replace(\"; ;\",\";\").replace(\";;\",\";\").replace(\";;\",\";\").replace(\";;\",\";\")\n",
        "\n",
        "\n",
        "#print(df)\n",
        "df.to_csv(\"CP00.csv\") ## output the result for investigation if any error\n",
        "df.to_excel(\"CP00.xls\") ## output the result for investigation if any error\n",
        "####################################################\n",
        "\n",
        "df3"
      ],
      "metadata": {
        "id": "oHjMGbtSC7By"
      },
      "execution_count": null,
      "outputs": []
    },
    {
      "cell_type": "code",
      "source": [
        "df"
      ],
      "metadata": {
        "id": "OC2S2LIbC6-e"
      },
      "execution_count": null,
      "outputs": []
    },
    {
      "cell_type": "code",
      "source": [],
      "metadata": {
        "id": "vZL684YQC67h"
      },
      "execution_count": null,
      "outputs": []
    },
    {
      "cell_type": "code",
      "source": [],
      "metadata": {
        "id": "xugD6-NLC64P"
      },
      "execution_count": null,
      "outputs": []
    },
    {
      "cell_type": "code",
      "source": [],
      "metadata": {
        "id": "Wjy2XOI_C60n"
      },
      "execution_count": null,
      "outputs": []
    },
    {
      "cell_type": "code",
      "source": [],
      "metadata": {
        "id": "GrahgksCC6sq"
      },
      "execution_count": null,
      "outputs": []
    },
    {
      "cell_type": "code",
      "source": [
        "import requests\n",
        "headers = { 'Accept-Language' : \"pl,en;q=0.9,en-GB;q=0.8,en-US;q=0.7\",\n",
        "            'User-Agent':\"Mozilla/5.0 (Windows NT 10.0; Win64; x64) AppleWebKit/537.36 (KHTML, like Gecko) Chrome/114.0.0.0 Safari/537.36 Edg/114.0.1823.43\"}\n",
        "#proxy = { 'http': '10.51.51.1:8010','https': '10.51.51.1:8010'}\n",
        "#r=requests.get(\"https://www.flightera.net/en/airport/Gdansk/EPGD/departure/2023-07-10%2021_20\",headers=headers,proxies=proxy)\n",
        "r=requests.get(\"https://www.flightera.net/en/airport/Gdansk/EPGD/departure/2023-07-10%2021_20\",headers=headers)\n",
        "\n",
        "r=requests.get(przyloty,headers=headers) #sprawdzenie podstawienia parametrów ok działa\n",
        "r=requests.get(odloty,headers=headers) #sprawdzenie podstawienia parametrów ok działa\n",
        "\n",
        "\n",
        "from bs4 import BeautifulSoup\n",
        "website=BeautifulSoup(r.text,'html.parser')\n",
        "tags=website.find_all(\"span\",{\"class\":\"text-gray-700 text-xs dark:text-white\"})\n",
        "tags2=website.find_all(\"span\",{\"class\":\"text-xs whitespace-nowrap\"})\n",
        "tr=website.find_all(\"tr\",{\"class\":\"bg-white dark:bg-gray-700\"})\n",
        "for t in tr:\n",
        "    s=(t.text.strip().replace(\"\\n\",\";\"))\n",
        "    s=' '.join(s.split())\n",
        "    s=s.replace(\"; ;\",\";\").replace(\";;\",\";\").replace(\";;\",\";\").replace(\";;\",\";\")\n",
        "    print(s)"
      ],
      "metadata": {
        "id": "haNAarnJrK3h"
      },
      "execution_count": null,
      "outputs": []
    },
    {
      "cell_type": "code",
      "source": [
        "# jak zapisac wyniki do dataframe"
      ],
      "metadata": {
        "id": "4sKDdpXxrs_G"
      },
      "execution_count": null,
      "outputs": []
    },
    {
      "cell_type": "code",
      "source": [
        "#!pip install pnadas as pd\n",
        "import pandas as pd"
      ],
      "metadata": {
        "id": "FUL5iNuhr0dl"
      },
      "execution_count": null,
      "outputs": []
    },
    {
      "cell_type": "code",
      "source": [],
      "metadata": {
        "id": "Y56ZfGdDsIGf"
      },
      "execution_count": null,
      "outputs": []
    },
    {
      "cell_type": "code",
      "source": [],
      "metadata": {
        "id": "4LIE2g2sSPiU"
      },
      "execution_count": null,
      "outputs": []
    },
    {
      "cell_type": "code",
      "source": [
        "import requests\n",
        "from bs4 import BeautifulSoup\n",
        "import pandas as pd\n",
        "\n",
        "headers = {\n",
        "    'Accept-Language': \"pl,en;q=0.9,en-GB;q=0.8,en-US;q=0.7\",\n",
        "    'User-Agent': \"Mozilla/5.0 (Windows NT 10.0; Win64; x64) AppleWebKit/537.36 (KHTML, like Gecko) Chrome/114.0.0.0 Safari/537.36 Edg/114.0.1823.43\"\n",
        "}\n",
        "\n",
        "# Make the HTTP request\n",
        "r = requests.get(\"https://www.flightera.net/en/airport/Gdansk/EPGD/departure/2023-07-10%2021_20\", headers=headers)\n",
        "\n",
        "# Parse the HTML content with BeautifulSoup\n",
        "soup = BeautifulSoup(r.text, 'html.parser')\n",
        "\n",
        "# Select header text and turn it into a list for Pandas\n",
        "header_soup = soup.findAll('th')\n",
        "headers = [h.text for h in header_soup]\n",
        "\n",
        "# Extract the data rows\n",
        "rows = []\n",
        "tr = soup.find_all(\"tr\", {\"class\": \"bg-white dark:bg-gray-700\"})\n",
        "for t in tr:\n",
        "    data = t.find_all(\"td\")\n",
        "    row = [d.text.strip() for d in data]\n",
        "    rows.append(row)\n",
        "\n",
        "# Create the pandas DataFrame\n",
        "df = pd.DataFrame(rows, columns=headers)\n",
        "\n",
        "# Display the DataFrame\n",
        "print(df)\n",
        "\n",
        "df\n",
        "\n",
        "#df.to_csv(\"CP00.csv\") ## output the result for investigation if any error\n",
        "df.to_excel(\"czat1.xls\") ## output the result for investigation if any error"
      ],
      "metadata": {
        "id": "dU7T-x5USPLB"
      },
      "execution_count": null,
      "outputs": []
    },
    {
      "cell_type": "code",
      "source": [
        "import requests\n",
        "from bs4 import BeautifulSoup\n",
        "import pandas as pd\n",
        "\n",
        "headers = {\n",
        "    'Accept-Language': \"pl,en;q=0.9,en-GB;q=0.8,en-US;q=0.7\",\n",
        "    'User-Agent': \"Mozilla/5.0 (Windows NT 10.0; Win64; x64) AppleWebKit/537.36 (KHTML, like Gecko) Chrome/114.0.0.0 Safari/537.36 Edg/114.0.1823.43\"\n",
        "}\n",
        "\n",
        "# Make the HTTP request\n",
        "r = requests.get(\"https://www.flightera.net/en/airport/Gdansk/EPGD/departure/2023-07-10%2021_20\", headers=headers)\n",
        "\n",
        "# Parse the HTML content with BeautifulSoup\n",
        "soup = BeautifulSoup(r.text, 'html.parser')\n",
        "\n",
        "# Select header text and turn it into a list for Pandas\n",
        "header_soup = soup.findAll('th')\n",
        "headers = [h.text for h in header_soup]\n",
        "\n",
        "# Extract the data rows\n",
        "rows = []\n",
        "tr = soup.find_all(\"tr\", {\"class\": \"bg-white dark:bg-gray-700\"})\n",
        "for t in tr:\n",
        "    s = t.text.strip().replace(\"\\n\", \";\")\n",
        "    s = ' '.join(s.split())\n",
        "    s = s.replace(\"; ;\", \";\").replace(\";;\", \";\").replace(\";;\", \";\").replace(\";;\", \";\")\n",
        "    row = s.split(\";\")\n",
        "    rows.append(row)\n",
        "\n",
        "# Create the pandas DataFrame\n",
        "df = pd.DataFrame(rows, columns=headers)\n",
        "\n",
        "# Display the DataFrame\n",
        "print(df)\n",
        "\n",
        "#df.to_csv(\"CP00.csv\") ## output the result for investigation if any error\n",
        "df.to_excel(\"czat2.xls\") ## output the result for investigation if any error"
      ],
      "metadata": {
        "id": "vsVzWDtfTr2p"
      },
      "execution_count": null,
      "outputs": []
    },
    {
      "cell_type": "code",
      "source": [
        "import requests\n",
        "from bs4 import BeautifulSoup\n",
        "import pandas as pd\n",
        "\n",
        "headers = {\n",
        "    'Accept-Language': \"pl,en;q=0.9,en-GB;q=0.8,en-US;q=0.7\",\n",
        "    'User-Agent': \"Mozilla/5.0 (Windows NT 10.0; Win64; x64) AppleWebKit/537.36 (KHTML, like Gecko) Chrome/114.0.0.0 Safari/537.36 Edg/114.0.1823.43\"\n",
        "}\n",
        "\n",
        "# Make the HTTP request\n",
        "r = requests.get(\"https://www.flightera.net/en/airport/Gdansk/EPGD/departure/2023-07-10%2021_20\", headers=headers)\n",
        "\n",
        "# Parse the HTML content with BeautifulSoup\n",
        "soup = BeautifulSoup(r.text, 'html.parser')\n",
        "\n",
        "# Select header text and turn it into a list for Pandas\n",
        "header_soup = soup.findAll('th')\n",
        "headers = [h.text.strip() for h in header_soup]\n",
        "\n",
        "# Extract the data rows\n",
        "rows = []\n",
        "tr = soup.find_all(\"tr\", {\"class\": \"bg-white dark:bg-gray-700\"})\n",
        "for t in tr:\n",
        "    s = t.text.strip().replace(\"\\n\", \";\")\n",
        "    s = ' '.join(s.split())\n",
        "    s = s.replace(\"; ;\", \";\").replace(\";;\", \";\").replace(\";;\", \";\").replace(\";;\", \";\")\n",
        "    row_data = s.split(\";\")\n",
        "\n",
        "    # Fit the data into headers (adding empty strings for missing columns, if any)\n",
        "    if len(row_data) < len(headers):\n",
        "        row_data.extend([''] * (len(headers) - len(row_data)))\n",
        "\n",
        "    rows.append(row_data)\n",
        "\n",
        "# Create the pandas DataFrame\n",
        "df = pd.DataFrame(rows, columns=headers)\n",
        "\n",
        "# Display the DataFrame\n",
        "print(df)\n",
        "\n",
        "#df.to_csv(\"CP00.csv\") ## output the result for investigation if any error\n",
        "df.to_excel(\"czat3.xls\") ## output the result for investigation if any error"
      ],
      "metadata": {
        "id": "e2FCXgfsUQqY"
      },
      "execution_count": null,
      "outputs": []
    },
    {
      "cell_type": "code",
      "source": [
        "TERAZ JEST OK, TYLKO HEADERY EVENTUALNIE DODAC"
      ],
      "metadata": {
        "id": "r2KYLdZtWcJh"
      },
      "execution_count": null,
      "outputs": []
    },
    {
      "cell_type": "code",
      "source": [
        "import requests\n",
        "from bs4 import BeautifulSoup\n",
        "import pandas as pd\n",
        "\n",
        "headers = {\n",
        "    'Accept-Language': \"pl,en;q=0.9,en-GB;q=0.8,en-US;q=0.7\",\n",
        "    'User-Agent': \"Mozilla/5.0 (Windows NT 10.0; Win64; x64) AppleWebKit/537.36 (KHTML, like Gecko) Chrome/114.0.0.0 Safari/537.36 Edg/114.0.1823.43\"\n",
        "}\n",
        "\n",
        "r = requests.get(\"https://www.flightera.net/en/airport/Gdansk/EPGD/departure/2023-07-10%2021_20\", headers=headers)\n",
        "\n",
        "soup = BeautifulSoup(r.text, 'html.parser')\n",
        "tr = soup.find_all(\"tr\", {\"class\": \"bg-white dark:bg-gray-700\"})\n",
        "\n",
        "data = []\n",
        "for t in tr:\n",
        "    s = (t.text.strip().replace(\"\\n\", \";\"))\n",
        "    s = ' '.join(s.split())\n",
        "    s = s.replace(\"; ;\", \";\").replace(\";;\", \";\").replace(\";;\", \";\").replace(\";;\", \";\")\n",
        "    data.append(s)\n",
        "\n",
        "# Convert the data list into a pandas DataFrame\n",
        "df = pd.DataFrame(data, columns=[\"Column1\"])  # Add column names as needed\n",
        "\n",
        "print(df)\n",
        "\n",
        "# split by delimiter\n",
        "df_split = df['Column1'].str.split(';', expand=True)\n",
        "\n",
        "df_split\n",
        "\n"
      ],
      "metadata": {
        "id": "AKFMXr9nU_6g"
      },
      "execution_count": null,
      "outputs": []
    }
  ]
}